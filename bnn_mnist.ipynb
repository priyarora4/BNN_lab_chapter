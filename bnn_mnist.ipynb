{
  "nbformat": 4,
  "nbformat_minor": 0,
  "metadata": {
    "colab": {
      "provenance": []
    },
    "kernelspec": {
      "name": "python3",
      "display_name": "Python 3"
    },
    "language_info": {
      "name": "python"
    }
  },
  "cells": [
    {
      "cell_type": "markdown",
      "source": [
        "# Binary Neural Networks Demo\n",
        "##### In this project, we develop a binary neural network for MNIST digit classification. Binary neural networks only use -1s or 1s. The main goal of this project is to implement a neural network using XNOR and popcount operators instead of multiplication and summation."
      ],
      "metadata": {
        "id": "0nk1bNrCR5V1"
      }
    },
    {
      "cell_type": "markdown",
      "source": [
        "## Imports"
      ],
      "metadata": {
        "id": "UMAVrTbrWW_H"
      }
    },
    {
      "cell_type": "code",
      "source": [
        "import numpy as np\n",
        "import matplotlib.pyplot as plt\n",
        "import zipfile\n",
        "from tqdm import tqdm"
      ],
      "metadata": {
        "id": "M6e33CmmWWwA"
      },
      "execution_count": null,
      "outputs": []
    },
    {
      "cell_type": "markdown",
      "source": [
        "## Load Data\n",
        "##### Make sure to add bnn_project.zip to google colab"
      ],
      "metadata": {
        "id": "rHp4OjEMTl8Q"
      }
    },
    {
      "cell_type": "code",
      "execution_count": null,
      "metadata": {
        "id": "PejgMj5oQ8hI"
      },
      "outputs": [],
      "source": [
        "path_to_bnn_zip = \"/content/bnn_project.zip\"\n",
        "with zipfile.ZipFile(path_to_bnn_zip, 'r') as zip_ref:\n",
        "    zip_ref.extractall(\"/content\")\n",
        "\n"
      ]
    },
    {
      "cell_type": "code",
      "source": [
        "def visualize(data, true_label, predicated_label):\n",
        "    \"\"\"This function prints image, true label and predicted label.\n",
        "\n",
        "    :param data:\n",
        "    :param true_label:\n",
        "    :param predicated_label:\n",
        "    :return:\n",
        "    \"\"\"\n",
        "\n",
        "    plt.imshow(data, cmap='gray')\n",
        "    # Display the image at index 0 from the train_data dataset using imshow()\n",
        "    # The cmap='gray' argument specifies that the image should be displayed in grayscale\n",
        "\n",
        "    plt.title(\"true label: {}, predicted label :{}\".format(true_label, predicated_label))\n",
        "    # Set the title of the plot to the label/target corresponding to the image at index 0\n",
        "    # The '%i' is a placeholder that will be replaced by the value of train_data.targets[0]\n",
        "\n",
        "    plt.show()\n",
        "    # Display the plot\n",
        "\n",
        "\n",
        "# Load the data and visualize\n",
        "\n",
        "mnist = np.load(\"/content/bnn_project/python/dataset/mnist_test_data_original.npy\", allow_pickle=True)\n",
        "X = mnist.item().get(\"data\")\n",
        "y = mnist.item().get(\"label\")\n",
        "print(\"The shape of the input: {}\".format(X.shape))\n",
        "print(\"The shape of the labels: {}\".format(y.shape))\n",
        "print()\n",
        "visualize(X[0], y[0], y[0])\n",
        "\n",
        "\n",
        "X = np.reshape(X, (10000, 784))\n",
        "print()\n",
        "print(\"The shape of the input reshaped: {}\".format(X.shape))"
      ],
      "metadata": {
        "colab": {
          "base_uri": "https://localhost:8080/",
          "height": 539
        },
        "id": "0dOxHPm0WJII",
        "outputId": "de3c88d6-d411-49af-88eb-546f92bc5721"
      },
      "execution_count": null,
      "outputs": [
        {
          "output_type": "stream",
          "name": "stdout",
          "text": [
            "The shape of the input: (10000, 28, 28)\n",
            "The shape of the labels: (10000,)\n",
            "\n"
          ]
        },
        {
          "output_type": "display_data",
          "data": {
            "text/plain": [
              "<Figure size 640x480 with 1 Axes>"
            ],
            "image/png": "[encoded data removed]"
          },
          "metadata": {}
        },
        {
          "output_type": "stream",
          "name": "stdout",
          "text": [
            "\n",
            "The shape of the input reshaped: (10000, 784)\n"
          ]
        }
      ]
    },
    {
      "cell_type": "markdown",
      "source": [
        "## Normal vs XNOR vector multiplication"
      ],
      "metadata": {
        "id": "5CIVA7X4YOj_"
      }
    },
    {
      "cell_type": "code",
      "source": [
        "\"\"\" This is a toy example that demonstrates how to\n",
        "multiply two binary vectors using XNOR and popcount\n",
        "\"\"\"\n",
        "\n",
        "# XNOR operation\n",
        "XNOR = lambda x, y: 1 if x == y else 0\n",
        "\n",
        "# Sign function\n",
        "sign = lambda x: float(1) if x>0 else float(-1)\n",
        "sign = np.vectorize(sign)\n",
        "\n",
        "# Convert -1,1 to 0,1 binary for XNOR operation\n",
        "quantize = lambda x: float(0) if x == 1 else float(1)\n",
        "quantize = np.vectorize(quantize)\n",
        "\n",
        "\n",
        "# Example vectors\n",
        "a = np.array([10, -10, -5, 9, -8, 2, 3, 1, -11])\n",
        "b = np.array([12, -18, -13, -13, -14, -15, 11, 12, 13])\n",
        "\n",
        "# Convert to binary vectors using sign function\n",
        "a = sign(a)\n",
        "b = sign(b)\n",
        "\n",
        "# Normal Matrix multi\n",
        "matmul_result = np.matmul(a, b)\n",
        "\n",
        "# XNOR matmul\n",
        "a = quantize(a)\n",
        "b = quantize(b)\n",
        "\n",
        "xnormatmul_sum = 0\n",
        "for x in range(len(a)):\n",
        "    # Doing XNOR and popcount\n",
        "    xnormatmul_sum = xnormatmul_sum + XNOR(a[x], b[x])\n",
        "\n",
        "\n",
        "\n",
        "# Convince yourself why this next operation is necessary:\n",
        "# In the final XNOR result, say P is the number of 1's (xnormatmul_sum in this case)  and N is the number of 0's\n",
        "# Then in terms of P and N, result = P - N\n",
        "# Notice what we are doing here:\n",
        "# 2*P - len(a) = 2*P - (P+N) = P - N\n",
        "# Which is what we were looking for.\n",
        "xnor_result = 2*xnormatmul_sum-len(a)\n",
        "\n",
        "print(\"Matmul result: {}, XNOR result: {}\".\n",
        "      format(matmul_result, xnor_result))\n",
        "\n"
      ],
      "metadata": {
        "colab": {
          "base_uri": "https://localhost:8080/"
        },
        "id": "lXr3f8-lXH-r",
        "outputId": "5df19abf-9a38-4811-e1f2-d8b5c30d7ff1"
      },
      "execution_count": null,
      "outputs": [
        {
          "output_type": "stream",
          "name": "stdout",
          "text": [
            "Matmul result: 3.0, XNOR result: 3\n"
          ]
        }
      ]
    },
    {
      "cell_type": "markdown",
      "source": [
        "## Demo Walkthrough of BNN\n",
        "### Here is a demo walkthrough of the forward pass of a BNN. We use dummy weights and data inputs"
      ],
      "metadata": {
        "id": "vsznzXoQ26b0"
      }
    },
    {
      "cell_type": "code",
      "source": [
        "# Dummy Data\n",
        "X = np.array([1, 1])\n",
        "\n",
        "w1 = np.array([[1, 1],\n",
        "               [1, 1]])\n",
        "\n",
        "w2 = np.array([[1, 0, 1],\n",
        "               [1, 1, 0]])\n",
        "# w3 = np.array([[1, 0, 1],\n",
        "#                [0, 1]])"
      ],
      "metadata": {
        "id": "5P0q1Fqs4NA-"
      },
      "execution_count": null,
      "outputs": []
    },
    {
      "cell_type": "code",
      "source": [
        "# Defining operation functions\n",
        "\n",
        "def XNOR(a, b):\n",
        "    return 1 if a == b else 0\n",
        "\n",
        "def matmul_xnor(A, B):\n",
        "    a, b = B.shape\n",
        "    res = np.zeros(b)\n",
        "\n",
        "    A1 = A.astype(int)\n",
        "    B1 = B.astype(int)\n",
        "\n",
        "    for x in range(b):\n",
        "        cnt = 0\n",
        "        for y in range(a):\n",
        "            cnt = cnt + XNOR(A1[y], B1[y][x])\n",
        "\n",
        "        res[x] = cnt\n",
        "    return res\n",
        "\n",
        "def quantize(x):\n",
        "  return float(0) if x == 1 else float(1)\n",
        "\n",
        "def sign(x):\n",
        "  return float(1) if x > 0 else float(-1)\n",
        "\n",
        "def adj(x):\n",
        "  return x * 2 - 1"
      ],
      "metadata": {
        "id": "mQFN3v5A4RfJ"
      },
      "execution_count": null,
      "outputs": []
    },
    {
      "cell_type": "code",
      "source": [
        "# Forward pass\n",
        "# Notice that we do not vectorize any of the operations, rather we use full for loops.\n",
        "# Later in this notebook you will notice that we vectorize these operations.\n",
        "\n",
        "def feed_forward_quantized(X, w1, w2):\n",
        "\n",
        "    # Layer 1\n",
        "    X0_input = np.zeros(X.shape)\n",
        "    for i in range(X.shape[0]):\n",
        "        X0_input[i] = quantize(sign(adj(X[i])))\n",
        "\n",
        "    layer1_output = matmul_xnor(X0_input, w1)\n",
        "    layer1_activations = (layer1_output * 2 - X0_input.shape[0])\n",
        "\n",
        "    # Layer 2\n",
        "    layer2_quantized = np.zeros(layer1_activations.shape)\n",
        "    for i in range(layer1_activations.shape[0]):\n",
        "        layer2_quantized[i] = quantize(sign(layer1_activations[i]))\n",
        "    layer2_output = matmul_xnor(layer2_quantized, w2)\n",
        "    final_output = (layer2_output * 2 - layer1_activations.shape[0])\n",
        "    A = np.array([final_output], np.int32)\n",
        "    return A\n",
        "\n",
        "print(feed_forward_quantized(X, w1, w2))"
      ],
      "metadata": {
        "colab": {
          "base_uri": "https://localhost:8080/"
        },
        "id": "JxnFZ5fA252h",
        "outputId": "d84c8b11-b929-46bb-eee0-97949c40068c"
      },
      "execution_count": null,
      "outputs": [
        {
          "output_type": "stream",
          "name": "stdout",
          "text": [
            "[[2 0 0]]\n"
          ]
        }
      ]
    },
    {
      "cell_type": "markdown",
      "source": [
        "## BNN Model Class\n",
        "#### Next we will make predictions on the actual MNIST dataset."
      ],
      "metadata": {
        "id": "py1A72Jyg8ih"
      }
    },
    {
      "cell_type": "code",
      "source": [
        "\n",
        "class BNN_MNIST:\n",
        "\n",
        "    def __init__(self, model_path, batch_size=64):\n",
        "        self.batch_size = batch_size\n",
        "\n",
        "        # Sign function for converting to +/- 1\n",
        "        self.sign = lambda x: float(1) if x>0 else float(-1)\n",
        "        self.sign = np.vectorize(self.sign)\n",
        "\n",
        "        # Quantize function for representing +/- 1 as 0 or 1.\n",
        "        self.quantize = lambda x: float(0) if x == 1 else float(1)\n",
        "        self.quantize = np.vectorize(self.quantize)\n",
        "\n",
        "        # Adjust input pixel intensities\n",
        "        self.adj = lambda x: x*2-1\n",
        "        self.adj = np.vectorize(self.adj)\n",
        "\n",
        "        # Load model\n",
        "        self.model = np.load(model_path, allow_pickle=True).item()\n",
        "\n",
        "        # Layer 1 weights (128, 784)\n",
        "        self.fc1w_q = self.sign(np.array(self.model['fc1w']))\n",
        "        # Layer 2 weights (64, 128)\n",
        "        self.fc2w_q = self.sign(np.array(self.model['fc2w']))\n",
        "        # Layer3 weights (64, 10)\n",
        "        self.fc3w_q = self.sign(np.array(self.model['fc3w']))\n",
        "\n",
        "        # Quantisized weights (1s and 0s)\n",
        "        self.fc1w_qntz = self.quantize(self.fc1w_q)\n",
        "        self.fc2w_qntz = self.quantize(self.fc2w_q)\n",
        "        self.fc3w_qntz = self.quantize(self.fc3w_q)\n",
        "\n",
        "    def feed_forward(self, input):\n",
        "        \"\"\"This BNN using normal MAC.\n",
        "\n",
        "        :return:\n",
        "        \"\"\"\n",
        "        X0_q = self.sign(self.adj(input))\n",
        "\n",
        "        X1 = np.matmul(X0_q, self.fc1w_q.T)\n",
        "\n",
        "        X1_q = self.sign(X1)\n",
        "\n",
        "        X2 = np.matmul(X1_q, self.fc2w_q.T)\n",
        "\n",
        "        X2_q = self.sign(X2)\n",
        "\n",
        "        X3 = np.matmul(X2_q, self.fc3w_q.T)\n",
        "\n",
        "        return X3\n",
        "\n",
        "    def feed_forward_quantized(self, input):\n",
        "        \"\"\"This function does BNN. Uses XNOR. Note this function only works for batch size 1.\n",
        "\n",
        "        :param input: MNIST sample input\n",
        "        :return:\n",
        "        \"\"\"\n",
        "        # layer 1\n",
        "        X0_input = self.quantize(self.sign(self.adj(input)))[0]\n",
        "        layer1_output = self.matmul_xnor(X0_input, self.fc1w_qntz.T)\n",
        "        # Popcount for each activation. Look back to \"Normal vs XNOR vector multiplication\"\n",
        "        # to see why this is necessary\n",
        "        layer1_activations = (layer1_output * 2 - 784)\n",
        "\n",
        "\n",
        "        # layer 2\n",
        "        layer2_input = self.sign(layer1_activations)\n",
        "        layer2_quantized = self.quantize(layer2_input)\n",
        "        layer2_output = self.matmul_xnor(layer2_quantized, self.fc2w_qntz.T)\n",
        "        layer2_activations = (layer2_output * 2 - 128)\n",
        "\n",
        "\n",
        "        # layer 3\n",
        "        layer3_input = self.sign(layer2_activations)\n",
        "        layer3_quantized = self.quantize(layer3_input)\n",
        "        layer3_output = self.matmul_xnor(layer3_quantized, self.fc3w_qntz.T)\n",
        "\n",
        "        final_output = (layer3_output * 2 - 64)\n",
        "        A = np.array([final_output], np.int32)\n",
        "\n",
        "        return A\n",
        "\n",
        "    def XNOR(self, a, b):\n",
        "        if (a == b):\n",
        "            return 1\n",
        "        else:\n",
        "            return 0\n",
        "\n",
        "    def matmul_xnor(self, A, B):\n",
        "        \"\"\"This function calculates matrix multiplication between two vectors using XNOR.\n",
        "        Currently only functional for batch size of 1.\n",
        "\n",
        "        :param A: The first quantized vector\n",
        "        :param B: The second quantized  vector\n",
        "        :return:\n",
        "        \"\"\"\n",
        "\n",
        "        a, b = B.shape\n",
        "\n",
        "        res = np.zeros(b)\n",
        "\n",
        "        A1 = A.astype(int)\n",
        "        B1 = B.astype(int)\n",
        "\n",
        "        for x in range(b):\n",
        "            cnt = 0\n",
        "            for y in range(a):\n",
        "              cnt = cnt + self.XNOR(A1[y], B1[y][x])\n",
        "\n",
        "            res[x] = cnt\n",
        "        return res\n",
        "\n",
        "\n",
        "    def pack(self, A, n):\n",
        "        \"\"\"Helper function for converting numpy array of bits to 32 bit integer array.\n",
        "        :param A: numpy array\n",
        "        :param n: A.shape[0]*A.shape[1] i.e. total number of bits in array.\n",
        "        :return:\n",
        "\n",
        "        \"\"\"\n",
        "        A_bit = np.array([0] * (n // 32), dtype=np.uint32)\n",
        "\n",
        "        A_lin = np.reshape(A, (n,))\n",
        "\n",
        "        # convert every 32 bit sequence into a single integer number.\n",
        "        for i in range(0, n, 32):\n",
        "            A_bit[i // 32] = self.concat4(A_lin, i)\n",
        "\n",
        "        return A_bit\n",
        "\n",
        "\n",
        "    def quantize_scale(self, x):\n",
        "        \"\"\"Helper function for converting +/- 1 to 1s and 0s\n",
        "        :param x:\n",
        "        :return:\n",
        "        \"\"\"\n",
        "\n",
        "        if x == -1:\n",
        "            return 1\n",
        "        elif x == 1:\n",
        "            return 0\n",
        "\n",
        "    def concat4(self, li, point):\n",
        "        \"\"\"Helper function for converting the bits li[point: point+32] to a single interger.\n",
        "        :param li: Array\n",
        "        :param point: integer index into the array\n",
        "        :return:\n",
        "        \"\"\"\n",
        "\n",
        "        result = np.array([self.quantize_scale(li[point])], dtype=np.uint32)[0].astype(np.uint32)\n",
        "\n",
        "\n",
        "        for k in range(1, 32):\n",
        "            i = point + k\n",
        "            result <<= 1\n",
        "            result &= 0xFFFFFFFF\n",
        "            result |= self.quantize_scale(li[i])\n",
        "            result &= 0xFFFFFFFF\n",
        "        return result.astype(np.uint32)\n",
        "\n",
        "    def preprocessModel(self, dataset_folder_path, X, y):\n",
        "        \"\"\"Helper function to convert input data, X, to 32 bit integers and save them along with the labels y.\n",
        "        :param X:\n",
        "        :param y:\n",
        "        :return:\n",
        "        \"\"\"\n",
        "        sample = 2\n",
        "        numpydict = {\"X\": [], \"y\": []}\n",
        "\n",
        "        #  X is shape (N x 784)\n",
        "        # Pad each sample with 16 1s so that X is (N x 800)\n",
        "        # We do this because when converting the bit array to integers, we need\n",
        "        # the array size to be a multiple of 32. 800 is a multiple of 32 however, 784 is not.\n",
        "        # Therefore we pad.\n",
        "        X0_q = np.array([list(arr) + [1] * 16 for arr in X])\n",
        "\n",
        "        # See documentation for function pack()\n",
        "        X0_bit = self.pack(X0_q, X0_q.shape[0] * X0_q.shape[1])\n",
        "        Y0 = y\n",
        "        numpydict[\"X\"].append(X0_bit)\n",
        "        numpydict[\"y\"].append(Y0)\n",
        "\n",
        "        np.save(f'{dataset_folder_path}/mnist-bit_sample{sample}.npy', numpydict, allow_pickle=True)\n",
        "\n",
        "\n",
        "    def create_input(self, data_path, dataset_folder_path, num_of_samples):\n",
        "        \"\"\"This function creates packed inputs for a given number of samples.\n",
        "        The created inputs are used for HLS tesbench. \"Packed\" means to convert\n",
        "        the input array into 32 bit integer numbers.\n",
        "\n",
        "        :param num_of_samples:\n",
        "        :return:\n",
        "        \"\"\"\n",
        "\n",
        "        mnist = np.load(data_path, allow_pickle=True)\n",
        "        X = mnist.item().get(\"data\")\n",
        "        y = mnist.item().get(\"label\")\n",
        "\n",
        "        X = np.reshape(X, (10000, 784))\n",
        "\n",
        "        if num_of_samples == 0:\n",
        "            num_of_samples = (len(X) // self.batch_size)\n",
        "\n",
        "        numpydict = {\"X\": [], \"y\": []}\n",
        "\n",
        "        for idx in range(num_of_samples):\n",
        "            # Get batch\n",
        "            xs = X[self.batch_size * idx:self.batch_size * idx + self.batch_size]\n",
        "            ys = y[self.batch_size * idx:self.batch_size * idx + self.batch_size]\n",
        "\n",
        "            X0_q = self.sign(self.adj(xs))\n",
        "            self.preprocessModel(dataset_folder_path, X0_q, ys)\n",
        "\n",
        "            #  X is shape (N x 784)\n",
        "            # Pad each sample with 16 1s so that X is (N x 800)\n",
        "            # We do this because when converting the bit array to integers, we need\n",
        "            # the array size to be a multiple of 32. 800 is a multiple of 32 however, 784 is not.\n",
        "            # Therefore we pad.\n",
        "            X0_q = np.array([list(arr) + [1] * 16 for arr in X0_q])\n",
        "\n",
        "            # See function pack()\n",
        "            X0_bit = self.pack(X0_q, X0_q.shape[0] * X0_q.shape[1])\n",
        "            Y0 = ys\n",
        "            numpydict[\"X\"].append(X0_bit)\n",
        "            numpydict[\"y\"].append(Y0)\n",
        "\n",
        "        np.save(f'{dataset_folder_path}/mnist-bit_sample{num_of_samples}.npy', numpydict, allow_pickle=True)\n",
        "\n",
        "\n",
        "\n",
        "    def create_packed_weights(self, weights_folder_path):\n",
        "        \"\"\"Helper function: This function creates packed weights for HLS.\n",
        "        \"Packed\" means to convert the weights arrays into 32 bit integer numbers.\n",
        "\n",
        "        :return:\n",
        "        \"\"\"\n",
        "\n",
        "        # fc1w_q is shape (128 x 784)\n",
        "        # Pad each row with 16 1s so that fc1w_q is (128 x 800)\n",
        "        # We do this because when converting the bit array to integers, we need\n",
        "        # the array size to be a multiple of 32. 800 is a multiple of 32 however, 784 is not.\n",
        "        # Therefore we pad.\n",
        "        fc1w_q = np.array([list(arr) + ([1] * 16) for arr in self.fc1w_q])\n",
        "        # See function pack()\n",
        "        fc1w_bit = self.pack(fc1w_q.T.T, fc1w_q.shape[0] * fc1w_q.shape[1])\n",
        "        fc1w_bit = self.pack(fc1w_q, fc1w_q.shape[0] * fc1w_q.shape[1])\n",
        "\n",
        "        fc2w_q = self.fc2w_q\n",
        "        fc2w_bit = self.pack(fc2w_q, fc2w_q.shape[0] * fc2w_q.shape[1])\n",
        "\n",
        "        fc3w_q = self.fc3w_q\n",
        "        fc3w_bit = self.pack(fc3w_q, fc3w_q.shape[0] * fc3w_q.shape[1])\n",
        "\n",
        "        np.savetxt(f'{weights_folder_path}/layer1.txt', fc1w_bit)\n",
        "        np.savetxt(f'{weights_folder_path}/layer2.txt', fc2w_bit)\n",
        "        np.savetxt(f'{weights_folder_path}/layer3.txt', fc3w_bit)\n",
        "\n",
        "\n",
        "        return fc1w_bit, fc2w_bit, fc3w_bit\n",
        "\n",
        "\n",
        "    def write_to_file(self, weights_folder_path, w1, w2, w3):\n",
        "        \"\"\" Helper function\n",
        "        :param w1:\n",
        "        :param w2:\n",
        "        :param w3:\n",
        "        :return:\n",
        "        \"\"\"\n",
        "        # Writing to file\n",
        "        with open(f\"{weights_folder_path}/layer1_c.txt\", \"w\") as file1:\n",
        "            # Writing data to a file\n",
        "            for x in range(len(w1)):\n",
        "                file1.writelines(str(w1[x])+\",\")\n",
        "\n",
        "        with open(f\"{weights_folder_path}/layer2_c.txt\", \"w\") as file1:\n",
        "            # Writing data to a file\n",
        "            for x in range(len(w2)):\n",
        "                file1.writelines(str(w2[x])+\",\")\n",
        "\n",
        "        with open(f\"{weights_folder_path}/layer3_c.txt\", \"w\") as file1:\n",
        "            # Writing data to a file\n",
        "            for x in range(len(w3)):\n",
        "                file1.writelines(str(w3[x])+\",\")\n",
        "\n",
        "    def hlscode(self):\n",
        "        \"\"\"This is a reference implementation for HLS.\n",
        "        Intentionally, left empty so that students implement the HLS ref design.\n",
        "\n",
        "        :return:\n",
        "        \"\"\"\n",
        "\n",
        "        print(\"Done\")\n",
        "\n",
        "\n",
        "    def visualize(self, data, true_label, predicated_label):\n",
        "        \"\"\"This function prints image, true label and predicted label.\n",
        "\n",
        "        :param data:\n",
        "        :param true_label:\n",
        "        :param predicated_label:\n",
        "        :return:\n",
        "        \"\"\"\n",
        "        # Visualization\n",
        "        import matplotlib.pyplot as plt\n",
        "\n",
        "        # Import the matplotlib.pyplot module for visualization purposes\n",
        "\n",
        "        plt.imshow(data, cmap='gray')\n",
        "        # Display the image at index 0 from the train_data dataset using imshow()\n",
        "        # The cmap='gray' argument specifies that the image should be displayed in grayscale\n",
        "\n",
        "        plt.title(\"true label: {}, predicted label :{}\".format(true_label, predicated_label))\n",
        "        # Set the title of the plot to the label/target corresponding to the image at index 0\n",
        "        # The '%i' is a placeholder that will be replaced by the value of train_data.targets[0]\n",
        "\n",
        "        plt.show()\n",
        "        # Display the plot\n",
        "\n",
        "    def run_test_visalize(self, data_path, num_samples):\n",
        "        \"\"\"This function is for debugging. Used for visualizing\n",
        "        the input (MNIST image), the predicted output and the true output.\n",
        "        :param data_path: path to the mnist dataset\n",
        "        :param num_samples: number of samples to visualize\n",
        "        :return:\n",
        "        \"\"\"\n",
        "\n",
        "\n",
        "        mnist = np.load(data_path, allow_pickle=True)\n",
        "        X = mnist.item().get(\"data\")\n",
        "        y = mnist.item().get(\"label\")\n",
        "\n",
        "        X = np.reshape(X, (10000, 784))\n",
        "        print(X.shape)\n",
        "\n",
        "\n",
        "        # Visulize input image prediction and true label for all samples\n",
        "        for idx in range(num_samples):\n",
        "            xs = X[idx]\n",
        "            ys = y[idx]\n",
        "            outputs = self.feed_forward(xs)\n",
        "            xs_plot = np.reshape(xs, (28, 28))\n",
        "            self.visualize(xs_plot, ys, np.argmax(outputs))\n",
        "\n",
        "    def run_test(self, X, y, use_normal_mac=False):\n",
        "        \"\"\"This function is for testing\n",
        "\n",
        "        :param use_normal_mac: Setting this parameter calls self.feed_forward (uses MAC),\n",
        "        otherwise, it calls feed_forward_quantized which uses XNOR\n",
        "\n",
        "        :return:\n",
        "        \"\"\"\n",
        "\n",
        "        prediction = []\n",
        "\n",
        "        i = 0\n",
        "\n",
        "        # set inference function\n",
        "        if use_normal_mac is True:\n",
        "            inference_function = self.feed_forward\n",
        "        else:\n",
        "            inference_function = self.feed_forward_quantized\n",
        "\n",
        "\n",
        "        for idx in tqdm(range(len(X) // self.batch_size)):\n",
        "            # Get Batch\n",
        "            xs = X[self.batch_size * idx:self.batch_size * idx + self.batch_size]\n",
        "            ys = y[self.batch_size * idx:self.batch_size * idx + self.batch_size]\n",
        "\n",
        "            # Inference\n",
        "            outputs = inference_function(xs)\n",
        "\n",
        "            # Prediction correct or not\n",
        "            for output, yk in zip(outputs, ys):\n",
        "                prediction.append(np.argmax(output) == (yk))\n",
        "            i += 1\n",
        "\n",
        "\n",
        "        # calculate score\n",
        "        score = np.mean(prediction) * 100\n",
        "\n",
        "        return score\n",
        "\n"
      ],
      "metadata": {
        "id": "7tTjJK4AkePk"
      },
      "execution_count": null,
      "outputs": []
    },
    {
      "cell_type": "markdown",
      "source": [
        "## Inference on MNIST\n"
      ],
      "metadata": {
        "id": "QJPWwQkH2LQz"
      }
    },
    {
      "cell_type": "code",
      "source": [
        "# Make sure data is loaded\n",
        "print(\"The shape of the input: {}\".format(X.shape))\n",
        "print(\"The shape of the output: {}\".format(y.shape))"
      ],
      "metadata": {
        "colab": {
          "base_uri": "https://localhost:8080/"
        },
        "id": "dICAMJMK3H1R",
        "outputId": "51b88326-4633-4362-fa65-6139abb04efd"
      },
      "execution_count": null,
      "outputs": [
        {
          "output_type": "stream",
          "name": "stdout",
          "text": [
            "The shape of the input: (2,)\n",
            "The shape of the output: (10000,)\n"
          ]
        }
      ]
    },
    {
      "cell_type": "code",
      "source": [
        "# Create Model Instance\n",
        "# Note that the XNOR matrix multiplication implimentation only works with batch_size 1 currently.\n",
        "bnn = BNN_MNIST(model_path=\"/content/bnn_project/python/weights/model.npy\", batch_size=1)"
      ],
      "metadata": {
        "id": "09896keOmmzJ"
      },
      "execution_count": null,
      "outputs": []
    },
    {
      "cell_type": "code",
      "source": [
        "# Run Model Using normal matrix multiplication\n",
        "print(\"Running BNN which uses MAC\")\n",
        "print(\"\\nAccuracy:\", bnn.run_test(X, y, use_normal_mac=True))"
      ],
      "metadata": {
        "colab": {
          "base_uri": "https://localhost:8080/"
        },
        "id": "bF7fviIX6uxb",
        "outputId": "ec824973-60fa-4599-e723-82b6d1df8eb5"
      },
      "execution_count": null,
      "outputs": [
        {
          "output_type": "stream",
          "name": "stdout",
          "text": [
            "Running BNN which uses MAC\n"
          ]
        },
        {
          "output_type": "stream",
          "name": "stderr",
          "text": [
            "100%|██████████| 10000/10000 [00:24<00:00, 409.40it/s]"
          ]
        },
        {
          "output_type": "stream",
          "name": "stdout",
          "text": [
            "\n",
            "Accuracy: 89.39\n"
          ]
        },
        {
          "output_type": "stream",
          "name": "stderr",
          "text": [
            "\n"
          ]
        }
      ]
    },
    {
      "cell_type": "code",
      "source": [
        "# Run Model using XNOR for matrix multiplication\n",
        "# Note that this may take up to 15 minutes\n",
        "print(\"Running BNN which uses XNOR\")\n",
        "print(\"Accuracy:\", bnn.run_test(X[:10], y, use_normal_mac=False))\n"
      ],
      "metadata": {
        "id": "C2Cd68HA2JW0",
        "colab": {
          "base_uri": "https://localhost:8080/"
        },
        "outputId": "7f970035-ab9a-4c1c-85d2-ce8ad13312a4"
      },
      "execution_count": null,
      "outputs": [
        {
          "output_type": "stream",
          "name": "stdout",
          "text": [
            "Running BNN which uses XNOR\n"
          ]
        },
        {
          "output_type": "stream",
          "name": "stderr",
          "text": [
            "100%|██████████| 10/10 [00:00<00:00, 12.60it/s]"
          ]
        },
        {
          "output_type": "stream",
          "name": "stdout",
          "text": [
            "Accuracy: 90.0\n"
          ]
        },
        {
          "output_type": "stream",
          "name": "stderr",
          "text": [
            "\n"
          ]
        }
      ]
    },
    {
      "cell_type": "markdown",
      "source": [
        "## TODO In the BNN class, the function hls() is for you to complete"
      ],
      "metadata": {
        "id": "0od9TOKS6OlI"
      }
    },
    {
      "cell_type": "code",
      "source": [
        "bnn.hlscode()"
      ],
      "metadata": {
        "colab": {
          "base_uri": "https://localhost:8080/"
        },
        "id": "Z7CtS2FKS0LW",
        "outputId": "5d896006-a25c-42d0-c064-00bea2dbfb39"
      },
      "execution_count": null,
      "outputs": [
        {
          "output_type": "stream",
          "name": "stdout",
          "text": [
            "Done\n"
          ]
        }
      ]
    },
    {
      "cell_type": "code",
      "source": [],
      "metadata": {
        "id": "Q1WvScxy6tGO"
      },
      "execution_count": null,
      "outputs": []
    }
  ]
}